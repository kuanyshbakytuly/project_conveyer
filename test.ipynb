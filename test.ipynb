{
 "cells": [
  {
   "cell_type": "code",
   "execution_count": null,
   "metadata": {},
   "outputs": [],
   "source": []
  },
  {
   "cell_type": "code",
   "execution_count": 5,
   "metadata": {},
   "outputs": [],
   "source": [
    "import ffmpegcv\n",
    "\n",
    "vidin = ffmpegcv.VideoCaptureNV('input.mp4', gpu=1)\n",
    "vidout = ffmpegcv.VideoWriterNV('output.mp4', 'h264', vidin.fps)  #NVIDIA-GPU\n",
    "\n",
    "with vidin, vidout:\n",
    "    for frame in vidin:\n",
    "        #cv2.imshow('image', frame)\n",
    "        vidout.write(frame)"
   ]
  },
  {
   "cell_type": "code",
   "execution_count": 5,
   "metadata": {},
   "outputs": [
    {
     "ename": "AttributeError",
     "evalue": "module 'torch' has no attribute '__version__'",
     "output_type": "error",
     "traceback": [
      "\u001b[0;31m---------------------------------------------------------------------------\u001b[0m",
      "\u001b[0;31mAttributeError\u001b[0m                            Traceback (most recent call last)",
      "Cell \u001b[0;32mIn[5], line 2\u001b[0m\n\u001b[1;32m      1\u001b[0m \u001b[38;5;28;01mimport\u001b[39;00m\u001b[38;5;250m \u001b[39m\u001b[38;5;21;01mtorch\u001b[39;00m\n\u001b[0;32m----> 2\u001b[0m \u001b[38;5;28mprint\u001b[39m(\u001b[43mtorch\u001b[49m\u001b[38;5;241;43m.\u001b[39;49m\u001b[43m__version__\u001b[49m)  \u001b[38;5;66;03m# Should show 2.x.x\u001b[39;00m\n\u001b[1;32m      3\u001b[0m \u001b[38;5;28mprint\u001b[39m(torch\u001b[38;5;241m.\u001b[39mcuda\u001b[38;5;241m.\u001b[39mis_available())  \u001b[38;5;66;03m# Should return True if GPU is available\u001b[39;00m\n\u001b[1;32m      4\u001b[0m \u001b[38;5;28mprint\u001b[39m(\u001b[38;5;28mdir\u001b[39m(torch))  \u001b[38;5;66;03m# Should show 'load' in the list\u001b[39;00m\n",
      "\u001b[0;31mAttributeError\u001b[0m: module 'torch' has no attribute '__version__'"
     ]
    }
   ],
   "source": [
    "import torch\n",
    "print(torch.__version__)  # Should show 2.x.x\n",
    "print(torch.cuda.is_available())  # Should return True if GPU is available\n",
    "print(dir(torch))  # Should show 'load' in the list"
   ]
  },
  {
   "cell_type": "code",
   "execution_count": 4,
   "metadata": {},
   "outputs": [
    {
     "name": "stdout",
     "output_type": "stream",
     "text": [
      "Processing on GPU 0 | 3840x2160 @ 30.0 FPS\n",
      "Frame | GPU% | MEM% | Used(MB) | FPS\n",
      "------------------------------------\n",
      "   30 |   3% |   1% |  1139.8 |   7.5\n",
      "   60 |   1% |   1% |  1139.8 |  10.0\n",
      "   90 |   2% |   1% |  1139.8 |  11.1\n",
      "  120 |   3% |   2% |  1139.8 |  11.7\n",
      "  150 |   1% |   1% |  1139.8 |  12.2\n",
      "  180 |   1% |   1% |  1139.8 |  12.6\n",
      "  210 |   1% |   1% |  1139.8 |  12.8\n",
      "\n",
      "Summary:\n",
      "Frames processed: 231\n",
      "Total time: 18.6s\n",
      "Average FPS: 12.5\n"
     ]
    }
   ],
   "source": [
    "import ffmpegcv\n",
    "import time\n",
    "from pynvml import *\n",
    "from contextlib import contextmanager\n",
    "\n",
    "@contextmanager\n",
    "def gpu_monitoring():\n",
    "    \"\"\"Context manager for GPU monitoring\"\"\"\n",
    "    class GPUMonitor:\n",
    "        def __init__(self, handle):\n",
    "            self.handle = handle\n",
    "            \n",
    "        def get_stats(self):\n",
    "            try:\n",
    "                util = nvmlDeviceGetUtilizationRates(self.handle)\n",
    "                mem = nvmlDeviceGetMemoryInfo(self.handle)\n",
    "                return {\n",
    "                    'gpu_util': util.gpu,\n",
    "                    'mem_util': util.memory,\n",
    "                    'mem_used': mem.used / 1024**2  # MB\n",
    "                }\n",
    "            except NVMLError as e:\n",
    "                print(f\"GPU Stats Error: {e}\")\n",
    "                return {'gpu_util': -1, 'mem_util': -1, 'mem_used': -1}\n",
    "    \n",
    "    handle = None\n",
    "    try:\n",
    "        nvmlInit()\n",
    "        handle = nvmlDeviceGetHandleByIndex(0)\n",
    "        yield GPUMonitor(handle)\n",
    "    except NVMLError as e:\n",
    "        print(f\"NVML Init Error: {e}\")\n",
    "        yield None\n",
    "    finally:\n",
    "        if handle is not None:\n",
    "            try:\n",
    "                nvmlShutdown()\n",
    "            except NVMLError as e:\n",
    "                print(f\"NVML Shutdown Error: {e}\")\n",
    "\n",
    "# Video processing\n",
    "vidin = ffmpegcv.VideoCaptureNV('input.mp4', gpu=0)\n",
    "vidout = ffmpegcv.VideoWriterNV('output.mp4', 'h264', vidin.fps, gpu=0)\n",
    "\n",
    "print(f\"Processing on GPU 0 | {vidin.width}x{vidin.height} @ {vidin.fps:.1f} FPS\")\n",
    "print(\"Frame | GPU% | MEM% | Used(MB) | FPS\")\n",
    "print(\"------------------------------------\")\n",
    "\n",
    "start_time = time.time()\n",
    "frame_count = 0\n",
    "\n",
    "try:\n",
    "    with gpu_monitoring() as monitor, vidin, vidout:\n",
    "        for frame in vidin:\n",
    "            vidout.write(frame)\n",
    "            frame_count += 1\n",
    "            \n",
    "            if frame_count % 30 == 0:\n",
    "                stats = monitor.get_stats() if monitor else {'gpu_util': -1, 'mem_util': -1, 'mem_used': -1}\n",
    "                elapsed = max(0.001, time.time() - start_time)\n",
    "                fps = frame_count / elapsed\n",
    "                \n",
    "                print(\n",
    "                    f\"{frame_count:5d} | \"\n",
    "                    f\"{stats['gpu_util']:3d}% | \"\n",
    "                    f\"{stats['mem_util']:3d}% | \"\n",
    "                    f\"{stats['mem_used']:7.1f} | \"\n",
    "                    f\"{fps:5.1f}\"\n",
    "                )\n",
    "                \n",
    "except KeyboardInterrupt:\n",
    "    print(\"\\nProcess interrupted\")\n",
    "finally:\n",
    "    total_time = time.time() - start_time\n",
    "    print(\"\\nSummary:\")\n",
    "    print(f\"Frames processed: {frame_count}\")\n",
    "    print(f\"Total time: {total_time:.1f}s\")\n",
    "    print(f\"Average FPS: {frame_count/total_time:.1f}\")"
   ]
  },
  {
   "cell_type": "code",
   "execution_count": null,
   "metadata": {},
   "outputs": [],
   "source": []
  }
 ],
 "metadata": {
  "kernelspec": {
   "display_name": ".venv",
   "language": "python",
   "name": "python3"
  },
  "language_info": {
   "codemirror_mode": {
    "name": "ipython",
    "version": 3
   },
   "file_extension": ".py",
   "mimetype": "text/x-python",
   "name": "python",
   "nbconvert_exporter": "python",
   "pygments_lexer": "ipython3",
   "version": "3.10.12"
  }
 },
 "nbformat": 4,
 "nbformat_minor": 2
}
