{
 "cells": [
  {
   "cell_type": "code",
   "execution_count": 31,
   "metadata": {},
   "outputs": [
    {
     "name": "stdout",
     "output_type": "stream",
     "text": [
      "Saved the output to 'merged_images.png'\n"
     ]
    }
   ],
   "source": [
    "!python merge_2_images.py --video_path=Videos/video.mp4 --overlay_image=ruler.png --output_image=merged_images.png"
   ]
  },
  {
   "cell_type": "code",
   "execution_count": 32,
   "metadata": {},
   "outputs": [
    {
     "name": "stdout",
     "output_type": "stream",
     "text": [
      "Start: (145, 121), End: (1146, 121)\n",
      "area_for_segment: [145, 121, 1146, 121]\n",
      "cm_per_pixel: 0.00999000999000999\n",
      "Saved to 'ratio.json'\n"
     ]
    }
   ],
   "source": [
    "!python process_ratio_cm_per_pixles.py --input_image=merged_images.png --output_json=ratio.json"
   ]
  },
  {
   "cell_type": "code",
   "execution_count": 33,
   "metadata": {},
   "outputs": [
    {
     "name": "stdout",
     "output_type": "stream",
     "text": [
      "area_for_segment = [1295, 1, 2338, 2154]\n",
      "Saved to area.json\n"
     ]
    }
   ],
   "source": [
    "!python process_area_for_segmet.py --video_path=Videos/video.mp4 --output_json=area.json"
   ]
  },
  {
   "cell_type": "code",
   "execution_count": 34,
   "metadata": {},
   "outputs": [
    {
     "name": "stdout",
     "output_type": "stream",
     "text": [
      "Processing Frames: 100%|███████████████████| 231/231 [00:46<00:00,  5.02frame/s]\n",
      "Processed video saved to: inference_output/output.mp4\n"
     ]
    }
   ],
   "source": [
    "!python inference.py --video_path=Videos/video.mp4  --model_object_detection=Models/best.pt  --model_image_segmentation=Models/best_yoloseg.pt --output_path=inference_output/output.mp4 --output_data_path=output_data.json --area_segment_path=area.json --ratio_path=ratio.json --tracker_config=bytetrack_custom.yaml --conf_threshold=0.4"
   ]
  }
 ],
 "metadata": {
  "kernelspec": {
   "display_name": ".venv",
   "language": "python",
   "name": "python3"
  },
  "language_info": {
   "codemirror_mode": {
    "name": "ipython",
    "version": 3
   },
   "file_extension": ".py",
   "mimetype": "text/x-python",
   "name": "python",
   "nbconvert_exporter": "python",
   "pygments_lexer": "ipython3",
   "version": "3.12.3"
  }
 },
 "nbformat": 4,
 "nbformat_minor": 2
}
